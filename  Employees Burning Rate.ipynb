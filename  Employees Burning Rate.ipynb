{
 "cells": [
  {
   "cell_type": "markdown",
   "metadata": {},
   "source": [
    "# Are Your Employees Burning Out?\n",
    "## Understand if your employee will Burn Out using the Burn Rate Dataset.\n",
    "\n",
    "\n",
    "### Context\n",
    "Understanding what will be the Burn Rate for the employee working in an organization based on the current pandemic situation where work from home is a boon and a bane. How are employees' Burn Rate affected based on various conditions provided?\n",
    "\n",
    "### Content\n",
    "Globally, World Mental Health Day is celebrated on October 10 each year. The objective of this day is to raise awareness about mental health issues around the world and mobilize efforts in support of mental health. According to an anonymous survey, about 450 million people live with mental disorders that can be one of the primary causes of poor health and disability worldwide. These days when the world is suffering from a pandemic situation, it becomes really hard to maintain mental fitness.\n",
    "\n",
    "Employee ID: The unique ID allocated for each employee (example: fffe390032003000)\n",
    "Date of Joining: The date-time when the employee has joined the organization (example: 2008-12-30)\n",
    "Gender: The gender of the employee (Male/Female)\n",
    "Company Type: The type of company where the employee is working (Service/Product)\n",
    "WFH Setup Available: Is the work from home facility available for the employee (Yes/No)\n",
    "Designation: The designation of the employee of work in the organization.\n",
    "In the range of [0.0, 5.0] bigger is higher designation.\n",
    "Resource Allocation: The amount of resource allocated to the employee to work, ie. number of working hours.\n",
    "In the range of [1.0, 10.0] (higher means more resource)\n",
    "Mental Fatigue Score: The level of fatigue mentally the employee is facing.\n",
    "In the range of [0.0, 10.0] where 0.0 means no fatigue and 10.0 means completely fatigue.\n",
    "Burn Rate: The value we need to predict for each employee telling the rate of Bur out while working.\n",
    "In the range of [0.0, 1.0] where the higher the value is more is the burn out.\n",
    "Acknowledgements\n",
    "A special thanks to the HackerEarth Competition on the topic \"HackerEarth Machine Learning Challenge: Are your employees burning out? which can be accessed here for this data collection.\n",
    "\n",
    "### Inspiration\n",
    "Try to build some really amazing predictions keeping in mind that happy and healthy employees are indisputably more productive at work, and in turn, help the business flourish profoundly."
   ]
  },
  {
   "cell_type": "code",
   "execution_count": 1,
   "metadata": {},
   "outputs": [],
   "source": [
    "import pandas as pd\n",
    "import numpy as np\n",
    "import seaborn as sns\n",
    "import matplotlib.pyplot as plt "
   ]
  },
  {
   "cell_type": "code",
   "execution_count": 2,
   "metadata": {},
   "outputs": [
    {
     "data": {
      "text/html": [
       "<div>\n",
       "<style scoped>\n",
       "    .dataframe tbody tr th:only-of-type {\n",
       "        vertical-align: middle;\n",
       "    }\n",
       "\n",
       "    .dataframe tbody tr th {\n",
       "        vertical-align: top;\n",
       "    }\n",
       "\n",
       "    .dataframe thead th {\n",
       "        text-align: right;\n",
       "    }\n",
       "</style>\n",
       "<table border=\"1\" class=\"dataframe\">\n",
       "  <thead>\n",
       "    <tr style=\"text-align: right;\">\n",
       "      <th></th>\n",
       "      <th>Employee ID</th>\n",
       "      <th>Date of Joining</th>\n",
       "      <th>Gender</th>\n",
       "      <th>Company Type</th>\n",
       "      <th>WFH Setup Available</th>\n",
       "      <th>Designation</th>\n",
       "      <th>Resource Allocation</th>\n",
       "      <th>Mental Fatigue Score</th>\n",
       "      <th>Burn Rate</th>\n",
       "    </tr>\n",
       "  </thead>\n",
       "  <tbody>\n",
       "    <tr>\n",
       "      <th>0</th>\n",
       "      <td>fffe32003000360033003200</td>\n",
       "      <td>2008-09-30</td>\n",
       "      <td>Female</td>\n",
       "      <td>Service</td>\n",
       "      <td>No</td>\n",
       "      <td>2.0</td>\n",
       "      <td>3.0</td>\n",
       "      <td>3.8</td>\n",
       "      <td>0.16</td>\n",
       "    </tr>\n",
       "    <tr>\n",
       "      <th>1</th>\n",
       "      <td>fffe3700360033003500</td>\n",
       "      <td>2008-11-30</td>\n",
       "      <td>Male</td>\n",
       "      <td>Service</td>\n",
       "      <td>Yes</td>\n",
       "      <td>1.0</td>\n",
       "      <td>2.0</td>\n",
       "      <td>5.0</td>\n",
       "      <td>0.36</td>\n",
       "    </tr>\n",
       "    <tr>\n",
       "      <th>2</th>\n",
       "      <td>fffe31003300320037003900</td>\n",
       "      <td>2008-03-10</td>\n",
       "      <td>Female</td>\n",
       "      <td>Product</td>\n",
       "      <td>Yes</td>\n",
       "      <td>2.0</td>\n",
       "      <td>NaN</td>\n",
       "      <td>5.8</td>\n",
       "      <td>0.49</td>\n",
       "    </tr>\n",
       "    <tr>\n",
       "      <th>3</th>\n",
       "      <td>fffe32003400380032003900</td>\n",
       "      <td>2008-11-03</td>\n",
       "      <td>Male</td>\n",
       "      <td>Service</td>\n",
       "      <td>Yes</td>\n",
       "      <td>1.0</td>\n",
       "      <td>1.0</td>\n",
       "      <td>2.6</td>\n",
       "      <td>0.20</td>\n",
       "    </tr>\n",
       "    <tr>\n",
       "      <th>4</th>\n",
       "      <td>fffe31003900340031003600</td>\n",
       "      <td>2008-07-24</td>\n",
       "      <td>Female</td>\n",
       "      <td>Service</td>\n",
       "      <td>No</td>\n",
       "      <td>3.0</td>\n",
       "      <td>7.0</td>\n",
       "      <td>6.9</td>\n",
       "      <td>0.52</td>\n",
       "    </tr>\n",
       "  </tbody>\n",
       "</table>\n",
       "</div>"
      ],
      "text/plain": [
       "                Employee ID Date of Joining  Gender Company Type  \\\n",
       "0  fffe32003000360033003200      2008-09-30  Female      Service   \n",
       "1      fffe3700360033003500      2008-11-30    Male      Service   \n",
       "2  fffe31003300320037003900      2008-03-10  Female      Product   \n",
       "3  fffe32003400380032003900      2008-11-03    Male      Service   \n",
       "4  fffe31003900340031003600      2008-07-24  Female      Service   \n",
       "\n",
       "  WFH Setup Available  Designation  Resource Allocation  Mental Fatigue Score  \\\n",
       "0                  No          2.0                  3.0                   3.8   \n",
       "1                 Yes          1.0                  2.0                   5.0   \n",
       "2                 Yes          2.0                  NaN                   5.8   \n",
       "3                 Yes          1.0                  1.0                   2.6   \n",
       "4                  No          3.0                  7.0                   6.9   \n",
       "\n",
       "   Burn Rate  \n",
       "0       0.16  \n",
       "1       0.36  \n",
       "2       0.49  \n",
       "3       0.20  \n",
       "4       0.52  "
      ]
     },
     "execution_count": 2,
     "metadata": {},
     "output_type": "execute_result"
    }
   ],
   "source": [
    "df = pd.read_csv('train.csv')\n",
    "\n",
    "df.head()"
   ]
  },
  {
   "cell_type": "code",
   "execution_count": 3,
   "metadata": {},
   "outputs": [
    {
     "data": {
      "text/html": [
       "<div>\n",
       "<style scoped>\n",
       "    .dataframe tbody tr th:only-of-type {\n",
       "        vertical-align: middle;\n",
       "    }\n",
       "\n",
       "    .dataframe tbody tr th {\n",
       "        vertical-align: top;\n",
       "    }\n",
       "\n",
       "    .dataframe thead th {\n",
       "        text-align: right;\n",
       "    }\n",
       "</style>\n",
       "<table border=\"1\" class=\"dataframe\">\n",
       "  <thead>\n",
       "    <tr style=\"text-align: right;\">\n",
       "      <th></th>\n",
       "      <th>Employee ID</th>\n",
       "      <th>Date of Joining</th>\n",
       "      <th>Gender</th>\n",
       "      <th>Company Type</th>\n",
       "      <th>WFH Setup Available</th>\n",
       "      <th>Designation</th>\n",
       "      <th>Resource Allocation</th>\n",
       "      <th>Mental Fatigue Score</th>\n",
       "    </tr>\n",
       "  </thead>\n",
       "  <tbody>\n",
       "    <tr>\n",
       "      <th>0</th>\n",
       "      <td>fffe31003300390039003000</td>\n",
       "      <td>2008-12-10</td>\n",
       "      <td>Female</td>\n",
       "      <td>Service</td>\n",
       "      <td>No</td>\n",
       "      <td>2.0</td>\n",
       "      <td>5.0</td>\n",
       "      <td>7.7</td>\n",
       "    </tr>\n",
       "    <tr>\n",
       "      <th>1</th>\n",
       "      <td>fffe31003300310037003800</td>\n",
       "      <td>2008-08-14</td>\n",
       "      <td>Female</td>\n",
       "      <td>Product</td>\n",
       "      <td>Yes</td>\n",
       "      <td>1.0</td>\n",
       "      <td>2.0</td>\n",
       "      <td>5.2</td>\n",
       "    </tr>\n",
       "    <tr>\n",
       "      <th>2</th>\n",
       "      <td>fffe33003400380035003900</td>\n",
       "      <td>2008-11-13</td>\n",
       "      <td>Male</td>\n",
       "      <td>Product</td>\n",
       "      <td>Yes</td>\n",
       "      <td>1.0</td>\n",
       "      <td>3.0</td>\n",
       "      <td>5.9</td>\n",
       "    </tr>\n",
       "    <tr>\n",
       "      <th>3</th>\n",
       "      <td>fffe3100370039003200</td>\n",
       "      <td>2008-02-07</td>\n",
       "      <td>Female</td>\n",
       "      <td>Service</td>\n",
       "      <td>No</td>\n",
       "      <td>3.0</td>\n",
       "      <td>6.0</td>\n",
       "      <td>4.6</td>\n",
       "    </tr>\n",
       "    <tr>\n",
       "      <th>4</th>\n",
       "      <td>fffe32003600390036003700</td>\n",
       "      <td>2008-07-17</td>\n",
       "      <td>Female</td>\n",
       "      <td>Product</td>\n",
       "      <td>No</td>\n",
       "      <td>2.0</td>\n",
       "      <td>5.0</td>\n",
       "      <td>6.4</td>\n",
       "    </tr>\n",
       "  </tbody>\n",
       "</table>\n",
       "</div>"
      ],
      "text/plain": [
       "                Employee ID Date of Joining  Gender Company Type  \\\n",
       "0  fffe31003300390039003000      2008-12-10  Female      Service   \n",
       "1  fffe31003300310037003800      2008-08-14  Female      Product   \n",
       "2  fffe33003400380035003900      2008-11-13    Male      Product   \n",
       "3      fffe3100370039003200      2008-02-07  Female      Service   \n",
       "4  fffe32003600390036003700      2008-07-17  Female      Product   \n",
       "\n",
       "  WFH Setup Available  Designation  Resource Allocation  Mental Fatigue Score  \n",
       "0                  No          2.0                  5.0                   7.7  \n",
       "1                 Yes          1.0                  2.0                   5.2  \n",
       "2                 Yes          1.0                  3.0                   5.9  \n",
       "3                  No          3.0                  6.0                   4.6  \n",
       "4                  No          2.0                  5.0                   6.4  "
      ]
     },
     "execution_count": 3,
     "metadata": {},
     "output_type": "execute_result"
    }
   ],
   "source": [
    "df_test = pd.read_csv('test.csv')\n",
    "\n",
    "df_test.head()"
   ]
  },
  {
   "cell_type": "code",
   "execution_count": 4,
   "metadata": {},
   "outputs": [
    {
     "name": "stdout",
     "output_type": "stream",
     "text": [
      "<class 'pandas.core.frame.DataFrame'>\n",
      "RangeIndex: 22750 entries, 0 to 22749\n",
      "Data columns (total 9 columns):\n",
      " #   Column                Non-Null Count  Dtype  \n",
      "---  ------                --------------  -----  \n",
      " 0   Employee ID           22750 non-null  object \n",
      " 1   Date of Joining       22750 non-null  object \n",
      " 2   Gender                22750 non-null  object \n",
      " 3   Company Type          22750 non-null  object \n",
      " 4   WFH Setup Available   22750 non-null  object \n",
      " 5   Designation           22750 non-null  float64\n",
      " 6   Resource Allocation   21369 non-null  float64\n",
      " 7   Mental Fatigue Score  20633 non-null  float64\n",
      " 8   Burn Rate             21626 non-null  float64\n",
      "dtypes: float64(4), object(5)\n",
      "memory usage: 1.6+ MB\n",
      "None\n",
      "\n",
      "-----------\n",
      "\n",
      "<class 'pandas.core.frame.DataFrame'>\n",
      "RangeIndex: 12250 entries, 0 to 12249\n",
      "Data columns (total 8 columns):\n",
      " #   Column                Non-Null Count  Dtype  \n",
      "---  ------                --------------  -----  \n",
      " 0   Employee ID           12250 non-null  object \n",
      " 1   Date of Joining       12250 non-null  object \n",
      " 2   Gender                12250 non-null  object \n",
      " 3   Company Type          12250 non-null  object \n",
      " 4   WFH Setup Available   12250 non-null  object \n",
      " 5   Designation           12250 non-null  float64\n",
      " 6   Resource Allocation   12250 non-null  float64\n",
      " 7   Mental Fatigue Score  12250 non-null  float64\n",
      "dtypes: float64(3), object(5)\n",
      "memory usage: 765.8+ KB\n",
      "None\n"
     ]
    }
   ],
   "source": [
    "print(df.info())\n",
    "print('\\n-----------\\n')\n",
    "print(df_test.info())"
   ]
  },
  {
   "cell_type": "code",
   "execution_count": 5,
   "metadata": {},
   "outputs": [
    {
     "data": {
      "text/html": [
       "<div>\n",
       "<style scoped>\n",
       "    .dataframe tbody tr th:only-of-type {\n",
       "        vertical-align: middle;\n",
       "    }\n",
       "\n",
       "    .dataframe tbody tr th {\n",
       "        vertical-align: top;\n",
       "    }\n",
       "\n",
       "    .dataframe thead th {\n",
       "        text-align: right;\n",
       "    }\n",
       "</style>\n",
       "<table border=\"1\" class=\"dataframe\">\n",
       "  <thead>\n",
       "    <tr style=\"text-align: right;\">\n",
       "      <th></th>\n",
       "      <th>Designation</th>\n",
       "      <th>Resource Allocation</th>\n",
       "      <th>Mental Fatigue Score</th>\n",
       "      <th>Burn Rate</th>\n",
       "    </tr>\n",
       "  </thead>\n",
       "  <tbody>\n",
       "    <tr>\n",
       "      <th>count</th>\n",
       "      <td>22750.000000</td>\n",
       "      <td>21369.000000</td>\n",
       "      <td>20633.000000</td>\n",
       "      <td>21626.000000</td>\n",
       "    </tr>\n",
       "    <tr>\n",
       "      <th>mean</th>\n",
       "      <td>2.178725</td>\n",
       "      <td>4.481398</td>\n",
       "      <td>5.728188</td>\n",
       "      <td>0.452005</td>\n",
       "    </tr>\n",
       "    <tr>\n",
       "      <th>std</th>\n",
       "      <td>1.135145</td>\n",
       "      <td>2.047211</td>\n",
       "      <td>1.920839</td>\n",
       "      <td>0.198226</td>\n",
       "    </tr>\n",
       "    <tr>\n",
       "      <th>min</th>\n",
       "      <td>0.000000</td>\n",
       "      <td>1.000000</td>\n",
       "      <td>0.000000</td>\n",
       "      <td>0.000000</td>\n",
       "    </tr>\n",
       "    <tr>\n",
       "      <th>25%</th>\n",
       "      <td>1.000000</td>\n",
       "      <td>3.000000</td>\n",
       "      <td>4.600000</td>\n",
       "      <td>0.310000</td>\n",
       "    </tr>\n",
       "    <tr>\n",
       "      <th>50%</th>\n",
       "      <td>2.000000</td>\n",
       "      <td>4.000000</td>\n",
       "      <td>5.900000</td>\n",
       "      <td>0.450000</td>\n",
       "    </tr>\n",
       "    <tr>\n",
       "      <th>75%</th>\n",
       "      <td>3.000000</td>\n",
       "      <td>6.000000</td>\n",
       "      <td>7.100000</td>\n",
       "      <td>0.590000</td>\n",
       "    </tr>\n",
       "    <tr>\n",
       "      <th>max</th>\n",
       "      <td>5.000000</td>\n",
       "      <td>10.000000</td>\n",
       "      <td>10.000000</td>\n",
       "      <td>1.000000</td>\n",
       "    </tr>\n",
       "  </tbody>\n",
       "</table>\n",
       "</div>"
      ],
      "text/plain": [
       "        Designation  Resource Allocation  Mental Fatigue Score     Burn Rate\n",
       "count  22750.000000         21369.000000          20633.000000  21626.000000\n",
       "mean       2.178725             4.481398              5.728188      0.452005\n",
       "std        1.135145             2.047211              1.920839      0.198226\n",
       "min        0.000000             1.000000              0.000000      0.000000\n",
       "25%        1.000000             3.000000              4.600000      0.310000\n",
       "50%        2.000000             4.000000              5.900000      0.450000\n",
       "75%        3.000000             6.000000              7.100000      0.590000\n",
       "max        5.000000            10.000000             10.000000      1.000000"
      ]
     },
     "execution_count": 5,
     "metadata": {},
     "output_type": "execute_result"
    }
   ],
   "source": [
    "df.describe()"
   ]
  },
  {
   "cell_type": "markdown",
   "metadata": {},
   "source": [
    "#### Fixing Null Values"
   ]
  },
  {
   "cell_type": "code",
   "execution_count": 6,
   "metadata": {},
   "outputs": [
    {
     "data": {
      "text/plain": [
       "Employee ID                0\n",
       "Date of Joining            0\n",
       "Gender                     0\n",
       "Company Type               0\n",
       "WFH Setup Available        0\n",
       "Designation                0\n",
       "Resource Allocation     1381\n",
       "Mental Fatigue Score    2117\n",
       "Burn Rate               1124\n",
       "dtype: int64"
      ]
     },
     "execution_count": 6,
     "metadata": {},
     "output_type": "execute_result"
    }
   ],
   "source": [
    "df.isnull().sum()"
   ]
  },
  {
   "cell_type": "code",
   "execution_count": 7,
   "metadata": {},
   "outputs": [
    {
     "data": {
      "text/plain": [
       "(22750, 9)"
      ]
     },
     "execution_count": 7,
     "metadata": {},
     "output_type": "execute_result"
    }
   ],
   "source": [
    "df.shape"
   ]
  },
  {
   "cell_type": "code",
   "execution_count": 8,
   "metadata": {},
   "outputs": [
    {
     "name": "stdout",
     "output_type": "stream",
     "text": [
      "(21626, 9)\n"
     ]
    }
   ],
   "source": [
    "df.dropna(subset = [\"Burn Rate\"], inplace=True)\n",
    "\n",
    "print(df.shape)"
   ]
  },
  {
   "cell_type": "code",
   "execution_count": 9,
   "metadata": {},
   "outputs": [
    {
     "name": "stdout",
     "output_type": "stream",
     "text": [
      "Are there any value missing now? \n",
      "---> False\n"
     ]
    }
   ],
   "source": [
    "df = df.fillna(df.median())\n",
    "\n",
    "print(\"Are there any value missing now? \\n---> \"+str(df.isna().any().any()))\n"
   ]
  },
  {
   "cell_type": "code",
   "execution_count": 10,
   "metadata": {},
   "outputs": [
    {
     "name": "stdout",
     "output_type": "stream",
     "text": [
      "Numerical valued features counts:\n",
      "----------\n",
      "\n",
      "2.0    7206\n",
      "3.0    5698\n",
      "1.0    4632\n",
      "4.0    2275\n",
      "0.0    1439\n",
      "5.0     376\n",
      "Name: Designation, dtype: int64\n",
      "------------------------\n",
      "\n",
      "4.0     4972\n",
      "5.0     3670\n",
      "3.0     3028\n",
      "6.0     2817\n",
      "2.0     1988\n",
      "7.0     1880\n",
      "1.0     1701\n",
      "8.0      992\n",
      "9.0      428\n",
      "10.0     150\n",
      "Name: Resource Allocation, dtype: int64\n",
      "-----------------------\n",
      "\n",
      "5.9    2384\n",
      "6.0     451\n",
      "5.8     436\n",
      "6.3     432\n",
      "6.5     426\n",
      "       ... \n",
      "0.6      22\n",
      "0.2      22\n",
      "0.4      16\n",
      "0.1      15\n",
      "0.3      11\n",
      "Name: Mental Fatigue Score, Length: 101, dtype: int64\n",
      "------------------------\n"
     ]
    }
   ],
   "source": [
    "print(\"Numerical valued features counts:\\n----------\", end=\"\\n\\n\")\n",
    "\n",
    "print(df[\"Designation\"].value_counts(), end=\"\\n------------------------\\n\\n\")\n",
    "print(df[\"Resource Allocation\"].value_counts(), end=\"\\n-----------------------\\n\\n\")\n",
    "print(df[\"Mental Fatigue Score\"].value_counts(), end=\"\\n------------------------\\n\")"
   ]
  },
  {
   "cell_type": "code",
   "execution_count": 11,
   "metadata": {},
   "outputs": [
    {
     "data": {
      "image/png": "[encoded data removed]",
      "text/plain": [
       "<Figure size 720x720 with 20 Axes>"
      ]
     },
     "metadata": {
      "needs_background": "light"
     },
     "output_type": "display_data"
    }
   ],
   "source": [
    "sns.pairplot(df)\n",
    "plt.show()"
   ]
  },
  {
   "cell_type": "code",
   "execution_count": 12,
   "metadata": {},
   "outputs": [
    {
     "data": {
      "text/plain": [
       "<matplotlib.axes._subplots.AxesSubplot at 0x1f1aada53c8>"
      ]
     },
     "execution_count": 12,
     "metadata": {},
     "output_type": "execute_result"
    },
    {
     "data": {
      "image/png": "[encoded data removed]",
      "text/plain": [
       "<Figure size 432x288 with 2 Axes>"
      ]
     },
     "metadata": {
      "needs_background": "light"
     },
     "output_type": "display_data"
    }
   ],
   "source": [
    "sns.heatmap(df.corr(),annot=True)"
   ]
  },
  {
   "cell_type": "code",
   "execution_count": 13,
   "metadata": {},
   "outputs": [
    {
     "data": {
      "text/html": [
       "<div>\n",
       "<style scoped>\n",
       "    .dataframe tbody tr th:only-of-type {\n",
       "        vertical-align: middle;\n",
       "    }\n",
       "\n",
       "    .dataframe tbody tr th {\n",
       "        vertical-align: top;\n",
       "    }\n",
       "\n",
       "    .dataframe thead th {\n",
       "        text-align: right;\n",
       "    }\n",
       "</style>\n",
       "<table border=\"1\" class=\"dataframe\">\n",
       "  <thead>\n",
       "    <tr style=\"text-align: right;\">\n",
       "      <th></th>\n",
       "      <th>Employee ID</th>\n",
       "      <th>Date of Joining</th>\n",
       "      <th>Gender</th>\n",
       "      <th>Company Type</th>\n",
       "      <th>WFH Setup Available</th>\n",
       "      <th>Designation</th>\n",
       "      <th>Resource Allocation</th>\n",
       "      <th>Mental Fatigue Score</th>\n",
       "      <th>Burn Rate</th>\n",
       "    </tr>\n",
       "  </thead>\n",
       "  <tbody>\n",
       "    <tr>\n",
       "      <th>0</th>\n",
       "      <td>fffe32003000360033003200</td>\n",
       "      <td>2008-09-30</td>\n",
       "      <td>Female</td>\n",
       "      <td>Service</td>\n",
       "      <td>No</td>\n",
       "      <td>2.0</td>\n",
       "      <td>3.0</td>\n",
       "      <td>3.8</td>\n",
       "      <td>0.16</td>\n",
       "    </tr>\n",
       "    <tr>\n",
       "      <th>1</th>\n",
       "      <td>fffe3700360033003500</td>\n",
       "      <td>2008-11-30</td>\n",
       "      <td>Male</td>\n",
       "      <td>Service</td>\n",
       "      <td>Yes</td>\n",
       "      <td>1.0</td>\n",
       "      <td>2.0</td>\n",
       "      <td>5.0</td>\n",
       "      <td>0.36</td>\n",
       "    </tr>\n",
       "    <tr>\n",
       "      <th>2</th>\n",
       "      <td>fffe31003300320037003900</td>\n",
       "      <td>2008-03-10</td>\n",
       "      <td>Female</td>\n",
       "      <td>Product</td>\n",
       "      <td>Yes</td>\n",
       "      <td>2.0</td>\n",
       "      <td>4.0</td>\n",
       "      <td>5.8</td>\n",
       "      <td>0.49</td>\n",
       "    </tr>\n",
       "    <tr>\n",
       "      <th>3</th>\n",
       "      <td>fffe32003400380032003900</td>\n",
       "      <td>2008-11-03</td>\n",
       "      <td>Male</td>\n",
       "      <td>Service</td>\n",
       "      <td>Yes</td>\n",
       "      <td>1.0</td>\n",
       "      <td>1.0</td>\n",
       "      <td>2.6</td>\n",
       "      <td>0.20</td>\n",
       "    </tr>\n",
       "    <tr>\n",
       "      <th>4</th>\n",
       "      <td>fffe31003900340031003600</td>\n",
       "      <td>2008-07-24</td>\n",
       "      <td>Female</td>\n",
       "      <td>Service</td>\n",
       "      <td>No</td>\n",
       "      <td>3.0</td>\n",
       "      <td>7.0</td>\n",
       "      <td>6.9</td>\n",
       "      <td>0.52</td>\n",
       "    </tr>\n",
       "  </tbody>\n",
       "</table>\n",
       "</div>"
      ],
      "text/plain": [
       "                Employee ID Date of Joining  Gender Company Type  \\\n",
       "0  fffe32003000360033003200      2008-09-30  Female      Service   \n",
       "1      fffe3700360033003500      2008-11-30    Male      Service   \n",
       "2  fffe31003300320037003900      2008-03-10  Female      Product   \n",
       "3  fffe32003400380032003900      2008-11-03    Male      Service   \n",
       "4  fffe31003900340031003600      2008-07-24  Female      Service   \n",
       "\n",
       "  WFH Setup Available  Designation  Resource Allocation  Mental Fatigue Score  \\\n",
       "0                  No          2.0                  3.0                   3.8   \n",
       "1                 Yes          1.0                  2.0                   5.0   \n",
       "2                 Yes          2.0                  4.0                   5.8   \n",
       "3                 Yes          1.0                  1.0                   2.6   \n",
       "4                  No          3.0                  7.0                   6.9   \n",
       "\n",
       "   Burn Rate  \n",
       "0       0.16  \n",
       "1       0.36  \n",
       "2       0.49  \n",
       "3       0.20  \n",
       "4       0.52  "
      ]
     },
     "execution_count": 13,
     "metadata": {},
     "output_type": "execute_result"
    }
   ],
   "source": [
    "df.head()"
   ]
  },
  {
   "cell_type": "markdown",
   "metadata": {},
   "source": [
    "#### Breaking date feature into small chunks "
   ]
  },
  {
   "cell_type": "code",
   "execution_count": 14,
   "metadata": {},
   "outputs": [],
   "source": [
    "current_date = pd.to_datetime('today')\n",
    "\n",
    "df[\"Date of Joining\"] = pd.to_datetime(df[\"Date of Joining\"])\n",
    "df_test[\"Date of Joining\"] = pd.to_datetime(df_test[\"Date of Joining\"])"
   ]
  },
  {
   "cell_type": "code",
   "execution_count": 15,
   "metadata": {},
   "outputs": [],
   "source": [
    "def create_days_count(data):\n",
    "    return (current_date - data[\"Date of Joining\"])\n",
    "\n",
    "df[\"days_count\"] = df.apply(create_days_count, axis=1)\n",
    "df[\"days_count\"] = df[\"days_count\"].dt.days\n",
    "\n",
    "df_test[\"days_count\"] = df_test.apply(create_days_count, axis=1)\n",
    "df_test[\"days_count\"] = df_test[\"days_count\"].dt.days"
   ]
  },
  {
   "cell_type": "code",
   "execution_count": 16,
   "metadata": {},
   "outputs": [],
   "source": [
    "df['joining_year'] = pd.to_datetime(df['Date of Joining'], format=\"%Y/%m/%d\").dt.year\n",
    "df['joining_month'] = pd.to_datetime(df['Date of Joining'], format=\"%Y/%m/%d\").dt.month\n",
    "df['joining_day'] = pd.to_datetime(df['Date of Joining'], format=\"%Y/%m/%d\").dt.day"
   ]
  },
  {
   "cell_type": "code",
   "execution_count": 17,
   "metadata": {},
   "outputs": [],
   "source": [
    "df.drop('Date of Joining',axis=1,inplace=True)"
   ]
  },
  {
   "cell_type": "code",
   "execution_count": 18,
   "metadata": {},
   "outputs": [
    {
     "data": {
      "text/html": [
       "<div>\n",
       "<style scoped>\n",
       "    .dataframe tbody tr th:only-of-type {\n",
       "        vertical-align: middle;\n",
       "    }\n",
       "\n",
       "    .dataframe tbody tr th {\n",
       "        vertical-align: top;\n",
       "    }\n",
       "\n",
       "    .dataframe thead th {\n",
       "        text-align: right;\n",
       "    }\n",
       "</style>\n",
       "<table border=\"1\" class=\"dataframe\">\n",
       "  <thead>\n",
       "    <tr style=\"text-align: right;\">\n",
       "      <th></th>\n",
       "      <th>Employee ID</th>\n",
       "      <th>Gender</th>\n",
       "      <th>Company Type</th>\n",
       "      <th>WFH Setup Available</th>\n",
       "      <th>Designation</th>\n",
       "      <th>Resource Allocation</th>\n",
       "      <th>Mental Fatigue Score</th>\n",
       "      <th>Burn Rate</th>\n",
       "      <th>days_count</th>\n",
       "      <th>joining_year</th>\n",
       "      <th>joining_month</th>\n",
       "      <th>joining_day</th>\n",
       "    </tr>\n",
       "  </thead>\n",
       "  <tbody>\n",
       "    <tr>\n",
       "      <th>0</th>\n",
       "      <td>fffe32003000360033003200</td>\n",
       "      <td>Female</td>\n",
       "      <td>Service</td>\n",
       "      <td>No</td>\n",
       "      <td>2.0</td>\n",
       "      <td>3.0</td>\n",
       "      <td>3.8</td>\n",
       "      <td>0.16</td>\n",
       "      <td>4440</td>\n",
       "      <td>2008</td>\n",
       "      <td>9</td>\n",
       "      <td>30</td>\n",
       "    </tr>\n",
       "    <tr>\n",
       "      <th>1</th>\n",
       "      <td>fffe3700360033003500</td>\n",
       "      <td>Male</td>\n",
       "      <td>Service</td>\n",
       "      <td>Yes</td>\n",
       "      <td>1.0</td>\n",
       "      <td>2.0</td>\n",
       "      <td>5.0</td>\n",
       "      <td>0.36</td>\n",
       "      <td>4379</td>\n",
       "      <td>2008</td>\n",
       "      <td>11</td>\n",
       "      <td>30</td>\n",
       "    </tr>\n",
       "    <tr>\n",
       "      <th>2</th>\n",
       "      <td>fffe31003300320037003900</td>\n",
       "      <td>Female</td>\n",
       "      <td>Product</td>\n",
       "      <td>Yes</td>\n",
       "      <td>2.0</td>\n",
       "      <td>4.0</td>\n",
       "      <td>5.8</td>\n",
       "      <td>0.49</td>\n",
       "      <td>4644</td>\n",
       "      <td>2008</td>\n",
       "      <td>3</td>\n",
       "      <td>10</td>\n",
       "    </tr>\n",
       "    <tr>\n",
       "      <th>3</th>\n",
       "      <td>fffe32003400380032003900</td>\n",
       "      <td>Male</td>\n",
       "      <td>Service</td>\n",
       "      <td>Yes</td>\n",
       "      <td>1.0</td>\n",
       "      <td>1.0</td>\n",
       "      <td>2.6</td>\n",
       "      <td>0.20</td>\n",
       "      <td>4406</td>\n",
       "      <td>2008</td>\n",
       "      <td>11</td>\n",
       "      <td>3</td>\n",
       "    </tr>\n",
       "    <tr>\n",
       "      <th>4</th>\n",
       "      <td>fffe31003900340031003600</td>\n",
       "      <td>Female</td>\n",
       "      <td>Service</td>\n",
       "      <td>No</td>\n",
       "      <td>3.0</td>\n",
       "      <td>7.0</td>\n",
       "      <td>6.9</td>\n",
       "      <td>0.52</td>\n",
       "      <td>4508</td>\n",
       "      <td>2008</td>\n",
       "      <td>7</td>\n",
       "      <td>24</td>\n",
       "    </tr>\n",
       "  </tbody>\n",
       "</table>\n",
       "</div>"
      ],
      "text/plain": [
       "                Employee ID  Gender Company Type WFH Setup Available  \\\n",
       "0  fffe32003000360033003200  Female      Service                  No   \n",
       "1      fffe3700360033003500    Male      Service                 Yes   \n",
       "2  fffe31003300320037003900  Female      Product                 Yes   \n",
       "3  fffe32003400380032003900    Male      Service                 Yes   \n",
       "4  fffe31003900340031003600  Female      Service                  No   \n",
       "\n",
       "   Designation  Resource Allocation  Mental Fatigue Score  Burn Rate  \\\n",
       "0          2.0                  3.0                   3.8       0.16   \n",
       "1          1.0                  2.0                   5.0       0.36   \n",
       "2          2.0                  4.0                   5.8       0.49   \n",
       "3          1.0                  1.0                   2.6       0.20   \n",
       "4          3.0                  7.0                   6.9       0.52   \n",
       "\n",
       "   days_count  joining_year  joining_month  joining_day  \n",
       "0        4440          2008              9           30  \n",
       "1        4379          2008             11           30  \n",
       "2        4644          2008              3           10  \n",
       "3        4406          2008             11            3  \n",
       "4        4508          2008              7           24  "
      ]
     },
     "execution_count": 18,
     "metadata": {},
     "output_type": "execute_result"
    }
   ],
   "source": [
    "df.head()"
   ]
  },
  {
   "cell_type": "code",
   "execution_count": 19,
   "metadata": {},
   "outputs": [],
   "source": [
    "df_test['joining_year'] = pd.to_datetime(df_test['Date of Joining'], format=\"%Y/%m/%d\").dt.year\n",
    "df_test['joining_month'] = pd.to_datetime(df_test['Date of Joining'], format=\"%Y/%m/%d\").dt.month\n",
    "df_test['joining_day'] = pd.to_datetime(df_test['Date of Joining'], format=\"%Y/%m/%d\").dt.day\n",
    "\n",
    "df_test.drop('Date of Joining',axis=1,inplace=True)"
   ]
  },
  {
   "cell_type": "code",
   "execution_count": 20,
   "metadata": {},
   "outputs": [],
   "source": [
    "# df_test.head()"
   ]
  },
  {
   "cell_type": "markdown",
   "metadata": {},
   "source": [
    "####  Basic Visualation"
   ]
  },
  {
   "cell_type": "code",
   "execution_count": 21,
   "metadata": {},
   "outputs": [
    {
     "data": {
      "text/plain": [
       "<matplotlib.axes._subplots.AxesSubplot at 0x1f1aed056c8>"
      ]
     },
     "execution_count": 21,
     "metadata": {},
     "output_type": "execute_result"
    },
    {
     "data": {
      "image/png": "[encoded data removed]",
      "text/plain": [
       "<Figure size 432x288 with 1 Axes>"
      ]
     },
     "metadata": {
      "needs_background": "light"
     },
     "output_type": "display_data"
    }
   ],
   "source": [
    "sns.barplot('Designation','Burn Rate',data=df)"
   ]
  },
  {
   "cell_type": "code",
   "execution_count": 22,
   "metadata": {},
   "outputs": [
    {
     "data": {
      "text/plain": [
       "<matplotlib.axes._subplots.AxesSubplot at 0x1f1ad747608>"
      ]
     },
     "execution_count": 22,
     "metadata": {},
     "output_type": "execute_result"
    },
    {
     "data": {
      "image/png": "[encoded data removed]",
      "text/plain": [
       "<Figure size 432x288 with 1 Axes>"
      ]
     },
     "metadata": {
      "needs_background": "light"
     },
     "output_type": "display_data"
    }
   ],
   "source": [
    "sns.barplot('Resource Allocation','Burn Rate',data=df)"
   ]
  },
  {
   "cell_type": "code",
   "execution_count": 23,
   "metadata": {},
   "outputs": [
    {
     "data": {
      "text/plain": [
       "<matplotlib.axes._subplots.AxesSubplot at 0x1f1ad89b708>"
      ]
     },
     "execution_count": 23,
     "metadata": {},
     "output_type": "execute_result"
    },
    {
     "data": {
      "image/png": "[encoded data removed]",
      "text/plain": [
       "<Figure size 432x288 with 1 Axes>"
      ]
     },
     "metadata": {
      "needs_background": "light"
     },
     "output_type": "display_data"
    }
   ],
   "source": [
    "sns.barplot('Company Type',y='Burn Rate',data=df)"
   ]
  },
  {
   "cell_type": "code",
   "execution_count": 24,
   "metadata": {},
   "outputs": [
    {
     "data": {
      "text/plain": [
       "<matplotlib.axes._subplots.AxesSubplot at 0x1f1ae969fc8>"
      ]
     },
     "execution_count": 24,
     "metadata": {},
     "output_type": "execute_result"
    },
    {
     "data": {
      "image/png": "[encoded data removed]",
      "text/plain": [
       "<Figure size 432x288 with 1 Axes>"
      ]
     },
     "metadata": {
      "needs_background": "light"
     },
     "output_type": "display_data"
    }
   ],
   "source": [
    "sns.barplot('Gender',y='Burn Rate',data=df)"
   ]
  },
  {
   "cell_type": "code",
   "execution_count": 25,
   "metadata": {},
   "outputs": [
    {
     "data": {
      "text/plain": [
       "<matplotlib.axes._subplots.AxesSubplot at 0x1f1aea5d708>"
      ]
     },
     "execution_count": 25,
     "metadata": {},
     "output_type": "execute_result"
    },
    {
     "data": {
      "image/png": "[encoded data removed]",
      "text/plain": [
       "<Figure size 432x288 with 1 Axes>"
      ]
     },
     "metadata": {
      "needs_background": "light"
     },
     "output_type": "display_data"
    }
   ],
   "source": [
    "sns.barplot('WFH Setup Available','Burn Rate',data=df)"
   ]
  },
  {
   "cell_type": "markdown",
   "metadata": {},
   "source": [
    "### Encoding categorical Variable into Numeric Variables "
   ]
  },
  {
   "cell_type": "code",
   "execution_count": 26,
   "metadata": {},
   "outputs": [],
   "source": [
    "def encoding(df):\n",
    "    \n",
    "    male = pd.get_dummies(df['Gender'],drop_first=True)\n",
    "    Company = pd.get_dummies(df['Company Type'],drop_first=True)\n",
    "    wfh = pd.get_dummies(df['WFH Setup Available'],drop_first=True)\n",
    "    \n",
    "    df.drop(['Gender','Company Type','WFH Setup Available'],axis=1,inplace=True)\n",
    "    \n",
    "    df = pd.concat([df,male,Company,wfh],axis=1)\n",
    "    \n",
    "    return df\n"
   ]
  },
  {
   "cell_type": "code",
   "execution_count": 27,
   "metadata": {},
   "outputs": [],
   "source": [
    "\n",
    "df = encoding(df)\n",
    "df_test = encoding(df_test)"
   ]
  },
  {
   "cell_type": "code",
   "execution_count": null,
   "metadata": {},
   "outputs": [],
   "source": []
  },
  {
   "cell_type": "code",
   "execution_count": 28,
   "metadata": {},
   "outputs": [
    {
     "data": {
      "text/html": [
       "<div>\n",
       "<style scoped>\n",
       "    .dataframe tbody tr th:only-of-type {\n",
       "        vertical-align: middle;\n",
       "    }\n",
       "\n",
       "    .dataframe tbody tr th {\n",
       "        vertical-align: top;\n",
       "    }\n",
       "\n",
       "    .dataframe thead th {\n",
       "        text-align: right;\n",
       "    }\n",
       "</style>\n",
       "<table border=\"1\" class=\"dataframe\">\n",
       "  <thead>\n",
       "    <tr style=\"text-align: right;\">\n",
       "      <th></th>\n",
       "      <th>Employee ID</th>\n",
       "      <th>Designation</th>\n",
       "      <th>Resource Allocation</th>\n",
       "      <th>Mental Fatigue Score</th>\n",
       "      <th>Burn Rate</th>\n",
       "      <th>days_count</th>\n",
       "      <th>joining_year</th>\n",
       "      <th>joining_month</th>\n",
       "      <th>joining_day</th>\n",
       "      <th>Male</th>\n",
       "      <th>Service</th>\n",
       "      <th>Yes</th>\n",
       "    </tr>\n",
       "  </thead>\n",
       "  <tbody>\n",
       "    <tr>\n",
       "      <th>0</th>\n",
       "      <td>fffe32003000360033003200</td>\n",
       "      <td>2.0</td>\n",
       "      <td>3.0</td>\n",
       "      <td>3.8</td>\n",
       "      <td>0.16</td>\n",
       "      <td>4440</td>\n",
       "      <td>2008</td>\n",
       "      <td>9</td>\n",
       "      <td>30</td>\n",
       "      <td>0</td>\n",
       "      <td>1</td>\n",
       "      <td>0</td>\n",
       "    </tr>\n",
       "    <tr>\n",
       "      <th>1</th>\n",
       "      <td>fffe3700360033003500</td>\n",
       "      <td>1.0</td>\n",
       "      <td>2.0</td>\n",
       "      <td>5.0</td>\n",
       "      <td>0.36</td>\n",
       "      <td>4379</td>\n",
       "      <td>2008</td>\n",
       "      <td>11</td>\n",
       "      <td>30</td>\n",
       "      <td>1</td>\n",
       "      <td>1</td>\n",
       "      <td>1</td>\n",
       "    </tr>\n",
       "    <tr>\n",
       "      <th>2</th>\n",
       "      <td>fffe31003300320037003900</td>\n",
       "      <td>2.0</td>\n",
       "      <td>4.0</td>\n",
       "      <td>5.8</td>\n",
       "      <td>0.49</td>\n",
       "      <td>4644</td>\n",
       "      <td>2008</td>\n",
       "      <td>3</td>\n",
       "      <td>10</td>\n",
       "      <td>0</td>\n",
       "      <td>0</td>\n",
       "      <td>1</td>\n",
       "    </tr>\n",
       "    <tr>\n",
       "      <th>3</th>\n",
       "      <td>fffe32003400380032003900</td>\n",
       "      <td>1.0</td>\n",
       "      <td>1.0</td>\n",
       "      <td>2.6</td>\n",
       "      <td>0.20</td>\n",
       "      <td>4406</td>\n",
       "      <td>2008</td>\n",
       "      <td>11</td>\n",
       "      <td>3</td>\n",
       "      <td>1</td>\n",
       "      <td>1</td>\n",
       "      <td>1</td>\n",
       "    </tr>\n",
       "    <tr>\n",
       "      <th>4</th>\n",
       "      <td>fffe31003900340031003600</td>\n",
       "      <td>3.0</td>\n",
       "      <td>7.0</td>\n",
       "      <td>6.9</td>\n",
       "      <td>0.52</td>\n",
       "      <td>4508</td>\n",
       "      <td>2008</td>\n",
       "      <td>7</td>\n",
       "      <td>24</td>\n",
       "      <td>0</td>\n",
       "      <td>1</td>\n",
       "      <td>0</td>\n",
       "    </tr>\n",
       "  </tbody>\n",
       "</table>\n",
       "</div>"
      ],
      "text/plain": [
       "                Employee ID  Designation  Resource Allocation  \\\n",
       "0  fffe32003000360033003200          2.0                  3.0   \n",
       "1      fffe3700360033003500          1.0                  2.0   \n",
       "2  fffe31003300320037003900          2.0                  4.0   \n",
       "3  fffe32003400380032003900          1.0                  1.0   \n",
       "4  fffe31003900340031003600          3.0                  7.0   \n",
       "\n",
       "   Mental Fatigue Score  Burn Rate  days_count  joining_year  joining_month  \\\n",
       "0                   3.8       0.16        4440          2008              9   \n",
       "1                   5.0       0.36        4379          2008             11   \n",
       "2                   5.8       0.49        4644          2008              3   \n",
       "3                   2.6       0.20        4406          2008             11   \n",
       "4                   6.9       0.52        4508          2008              7   \n",
       "\n",
       "   joining_day  Male  Service  Yes  \n",
       "0           30     0        1    0  \n",
       "1           30     1        1    1  \n",
       "2           10     0        0    1  \n",
       "3            3     1        1    1  \n",
       "4           24     0        1    0  "
      ]
     },
     "execution_count": 28,
     "metadata": {},
     "output_type": "execute_result"
    }
   ],
   "source": [
    "df.head()"
   ]
  },
  {
   "cell_type": "markdown",
   "metadata": {},
   "source": [
    "### Train-test-split"
   ]
  },
  {
   "cell_type": "code",
   "execution_count": 29,
   "metadata": {},
   "outputs": [],
   "source": [
    "# df_test.head()\n",
    "\n",
    "\n",
    "X = df.drop(['Employee ID','Burn Rate'],axis=1).values\n",
    "y = df['Burn Rate'].values"
   ]
  },
  {
   "cell_type": "code",
   "execution_count": 30,
   "metadata": {},
   "outputs": [],
   "source": [
    "from sklearn.model_selection import train_test_split\n",
    "\n",
    "X_train, X_test, y_train, y_test = train_test_split(X,y, test_size=0.33, random_state=42)"
   ]
  },
  {
   "cell_type": "markdown",
   "metadata": {},
   "source": [
    "### Feature Scaling"
   ]
  },
  {
   "cell_type": "code",
   "execution_count": 31,
   "metadata": {},
   "outputs": [],
   "source": [
    "from sklearn.preprocessing import MinMaxScaler\n",
    "\n",
    "scaler = MinMaxScaler()\n",
    "\n",
    "X_train = scaler.fit_transform(X_train)\n",
    "X_test = scaler.transform(X_test)\n"
   ]
  },
  {
   "cell_type": "markdown",
   "metadata": {},
   "source": [
    "#### Linear Regression"
   ]
  },
  {
   "cell_type": "code",
   "execution_count": 32,
   "metadata": {},
   "outputs": [
    {
     "name": "stdout",
     "output_type": "stream",
     "text": [
      "For LinearRegression \n",
      "\n",
      "\n",
      "MAE -> 0.0535887310039623\n",
      "MSE -> 0.00513021011484508\n",
      "RMSE -> 0.07162548509326189\n",
      "Accuracy -> 0.8674175664494691\n"
     ]
    }
   ],
   "source": [
    "from sklearn.metrics import mean_absolute_error,mean_squared_error,r2_score\n",
    "\n",
    "from sklearn.linear_model import LinearRegression\n",
    "\n",
    "lr = LinearRegression()\n",
    "\n",
    "lr.fit(X_train,y_train)\n",
    "\n",
    "lr_predict = lr.predict(X_test)\n",
    "\n",
    "\n",
    "print('For LinearRegression \\n\\n')\n",
    "print(f'MAE -> {mean_absolute_error(y_test,lr_predict)}')\n",
    "print(f'MSE -> {mean_squared_error(y_test,lr_predict)}')\n",
    "print(f'RMSE -> {np.sqrt(mean_squared_error(y_test,lr_predict))}')\n",
    "print(f'Accuracy -> {r2_score(y_test,lr_predict)}')"
   ]
  },
  {
   "cell_type": "markdown",
   "metadata": {},
   "source": [
    "#### Ridge Regression"
   ]
  },
  {
   "cell_type": "code",
   "execution_count": 33,
   "metadata": {},
   "outputs": [
    {
     "name": "stdout",
     "output_type": "stream",
     "text": [
      "\n",
      "For Ridge Regression \n",
      "\n",
      "\n",
      "MAE -> 0.053593378954143255\n",
      "MSE -> 0.005129381844728163\n",
      "RMSE -> 0.07161970290868402\n",
      "Accuracy -> 0.8674389718237676\n"
     ]
    }
   ],
   "source": [
    "from sklearn.linear_model import Ridge\n",
    "\n",
    "ridge_model = Ridge()\n",
    "ridge_model.fit(X_train, y_train)\n",
    "\n",
    "predict_ridge = ridge_model.predict(X_test)\n",
    "\n",
    "\n",
    "print('\\nFor Ridge Regression \\n\\n')\n",
    "print(f'MAE -> {mean_absolute_error(y_test,predict_ridge)}')\n",
    "\n",
    "print(f'MSE -> {mean_squared_error(y_test,predict_ridge)}')\n",
    "\n",
    "print(f'RMSE -> {np.sqrt(mean_squared_error(y_test,predict_ridge))}')\n",
    "\n",
    "print(f'Accuracy -> {r2_score(y_test,predict_ridge)}')"
   ]
  },
  {
   "cell_type": "markdown",
   "metadata": {},
   "source": [
    "#### Random-Forest-Regressor"
   ]
  },
  {
   "cell_type": "code",
   "execution_count": 34,
   "metadata": {},
   "outputs": [
    {
     "name": "stdout",
     "output_type": "stream",
     "text": [
      "For Random Forest \n",
      "\n",
      "\n",
      "MAE -> 0.04987920514822155\n",
      "MSE -> 0.004150637776414453\n",
      "RMSE -> 0.06442544354844949\n",
      "Accuracy -> 0.8927331152399768\n"
     ]
    }
   ],
   "source": [
    "from sklearn.ensemble import RandomForestRegressor\n",
    "\n",
    "rf = RandomForestRegressor()\n",
    "rf.fit(X_train,y_train)\n",
    "rf_predict = rf.predict(X_test)\n",
    "\n",
    "\n",
    "print('For Random Forest \\n\\n')\n",
    "print(f'MAE -> {mean_absolute_error(y_test,rf_predict)}')\n",
    "print(f'MSE -> {mean_squared_error(y_test,rf_predict)}')\n",
    "print(f'RMSE -> {np.sqrt(mean_squared_error(y_test,rf_predict))}')\n",
    "print(f'Accuracy -> {r2_score(y_test,rf_predict)}')"
   ]
  },
  {
   "cell_type": "markdown",
   "metadata": {},
   "source": [
    "#### Support Vector Machine Regression"
   ]
  },
  {
   "cell_type": "code",
   "execution_count": 35,
   "metadata": {},
   "outputs": [
    {
     "name": "stdout",
     "output_type": "stream",
     "text": [
      "For SVM \n",
      "\n",
      "\n",
      "MAE -> 0.053724256477634465\n",
      "MSE -> 0.004875818252615415\n",
      "RMSE -> 0.06982705960167172\n",
      "Accuracy -> 0.8739919350259653\n"
     ]
    }
   ],
   "source": [
    "from sklearn.svm import SVR\n",
    "\n",
    "svm = SVR()\n",
    "svm.fit(X_train,y_train)\n",
    "svm_predict = svm.predict(X_test)\n",
    "\n",
    "\n",
    "print('For SVM \\n\\n')\n",
    "print(f'MAE -> {mean_absolute_error(y_test,svm_predict)}')\n",
    "print(f'MSE -> {mean_squared_error(y_test,svm_predict)}')\n",
    "print(f'RMSE -> {np.sqrt(mean_squared_error(y_test,svm_predict))}')\n",
    "print(f'Accuracy -> {r2_score(y_test,svm_predict)}')"
   ]
  },
  {
   "cell_type": "markdown",
   "metadata": {},
   "source": [
    "#### AdaBoostRegressor"
   ]
  },
  {
   "cell_type": "code",
   "execution_count": 36,
   "metadata": {},
   "outputs": [
    {
     "name": "stdout",
     "output_type": "stream",
     "text": [
      "For AdaBoostRegressor \n",
      "\n",
      "\n",
      "MAE -> 0.06477111679744715\n",
      "MSE -> 0.006681104161553369\n",
      "RMSE -> 0.08173802151724355\n",
      "Accuracy -> 0.8273370819686059\n"
     ]
    }
   ],
   "source": [
    "from sklearn.ensemble import AdaBoostRegressor\n",
    "\n",
    "abr_model = AdaBoostRegressor() \n",
    "abr_model.fit(X_train, y_train)\n",
    "\n",
    "pred_abr = abr_model.predict(X_test)\n",
    "\n",
    "\n",
    "print('For AdaBoostRegressor \\n\\n')\n",
    "print(f'MAE -> {mean_absolute_error(y_test,pred_abr)}')\n",
    "print(f'MSE -> {mean_squared_error(y_test,pred_abr)}')\n",
    "print(f'RMSE -> {np.sqrt(mean_squared_error(y_test,pred_abr))}')\n",
    "print(f'Accuracy -> {r2_score(y_test,pred_abr)}')"
   ]
  },
  {
   "cell_type": "markdown",
   "metadata": {},
   "source": [
    "### Neural Network "
   ]
  },
  {
   "cell_type": "code",
   "execution_count": 37,
   "metadata": {},
   "outputs": [],
   "source": [
    "from tensorflow.keras.models import Sequential\n",
    "from tensorflow.keras.layers import Dense,Dropout\n",
    "from tensorflow.keras.callbacks import EarlyStopping"
   ]
  },
  {
   "cell_type": "code",
   "execution_count": 44,
   "metadata": {},
   "outputs": [],
   "source": [
    "model = Sequential()\n",
    "\n",
    "model.add(Dense(10,activation='relu'))\n",
    "model.add(Dropout(0.4))\n",
    "\n",
    "model.add(Dense(5,activation='relu'))\n",
    "model.add(Dropout(0.3))\n",
    "\n",
    "model.add(Dense(1,activation='linear'))\n",
    "\n",
    "\n",
    "model.compile(loss='mse',optimizer='adam')"
   ]
  },
  {
   "cell_type": "code",
   "execution_count": 45,
   "metadata": {},
   "outputs": [],
   "source": [
    "early_Stop = EarlyStopping(patience=3)"
   ]
  },
  {
   "cell_type": "code",
   "execution_count": 46,
   "metadata": {},
   "outputs": [
    {
     "name": "stdout",
     "output_type": "stream",
     "text": [
      "Train on 14489 samples, validate on 7137 samples\n",
      "Epoch 1/40\n",
      "14489/14489 [==============================] - 1s 73us/sample - loss: 0.2163 - val_loss: 0.0904\n",
      "Epoch 2/40\n",
      "14489/14489 [==============================] - 0s 18us/sample - loss: 0.1189 - val_loss: 0.0642\n",
      "Epoch 3/40\n",
      "14489/14489 [==============================] - 0s 20us/sample - loss: 0.0861 - val_loss: 0.0479\n",
      "Epoch 4/40\n",
      "14489/14489 [==============================] - 0s 22us/sample - loss: 0.0676 - val_loss: 0.0386\n",
      "Epoch 5/40\n",
      "14489/14489 [==============================] - 0s 24us/sample - loss: 0.0570 - val_loss: 0.0332\n",
      "Epoch 6/40\n",
      "14489/14489 [==============================] - 0s 24us/sample - loss: 0.0494 - val_loss: 0.0298\n",
      "Epoch 7/40\n",
      "14489/14489 [==============================] - 0s 24us/sample - loss: 0.0447 - val_loss: 0.0263\n",
      "Epoch 8/40\n",
      "14489/14489 [==============================] - 0s 24us/sample - loss: 0.0408 - val_loss: 0.0230\n",
      "Epoch 9/40\n",
      "14489/14489 [==============================] - 0s 24us/sample - loss: 0.0366 - val_loss: 0.0201\n",
      "Epoch 10/40\n",
      "14489/14489 [==============================] - 0s 25us/sample - loss: 0.0343 - val_loss: 0.0190\n",
      "Epoch 11/40\n",
      "14489/14489 [==============================] - 0s 24us/sample - loss: 0.0306 - val_loss: 0.0176\n",
      "Epoch 12/40\n",
      "14489/14489 [==============================] - 0s 26us/sample - loss: 0.0292 - val_loss: 0.0165\n",
      "Epoch 13/40\n",
      "14489/14489 [==============================] - 0s 24us/sample - loss: 0.0277 - val_loss: 0.0160\n",
      "Epoch 14/40\n",
      "14489/14489 [==============================] - 0s 22us/sample - loss: 0.0267 - val_loss: 0.0159\n",
      "Epoch 15/40\n",
      "14489/14489 [==============================] - 0s 23us/sample - loss: 0.0257 - val_loss: 0.0155\n",
      "Epoch 16/40\n",
      "14489/14489 [==============================] - 0s 24us/sample - loss: 0.0244 - val_loss: 0.0151\n",
      "Epoch 17/40\n",
      "14489/14489 [==============================] - 0s 24us/sample - loss: 0.0242 - val_loss: 0.0147\n",
      "Epoch 18/40\n",
      "14489/14489 [==============================] - 0s 23us/sample - loss: 0.0226 - val_loss: 0.0147\n",
      "Epoch 19/40\n",
      "14489/14489 [==============================] - 0s 24us/sample - loss: 0.0224 - val_loss: 0.0142\n",
      "Epoch 20/40\n",
      "14489/14489 [==============================] - 0s 25us/sample - loss: 0.0218 - val_loss: 0.0140\n",
      "Epoch 21/40\n",
      "14489/14489 [==============================] - 0s 23us/sample - loss: 0.0214 - val_loss: 0.0135\n",
      "Epoch 22/40\n",
      "14489/14489 [==============================] - 0s 23us/sample - loss: 0.0207 - val_loss: 0.0135\n",
      "Epoch 23/40\n",
      "14489/14489 [==============================] - 0s 23us/sample - loss: 0.0203 - val_loss: 0.0136\n",
      "Epoch 24/40\n",
      "14489/14489 [==============================] - 0s 24us/sample - loss: 0.0202 - val_loss: 0.0136\n",
      "Epoch 25/40\n",
      "14489/14489 [==============================] - 0s 23us/sample - loss: 0.0198 - val_loss: 0.0129\n",
      "Epoch 26/40\n",
      "14489/14489 [==============================] - 0s 23us/sample - loss: 0.0191 - val_loss: 0.0130\n",
      "Epoch 27/40\n",
      "14489/14489 [==============================] - 0s 22us/sample - loss: 0.0189 - val_loss: 0.0127\n",
      "Epoch 28/40\n",
      "14489/14489 [==============================] - 0s 24us/sample - loss: 0.0182 - val_loss: 0.0126\n",
      "Epoch 29/40\n",
      "14489/14489 [==============================] - 0s 25us/sample - loss: 0.0180 - val_loss: 0.0122\n",
      "Epoch 30/40\n",
      "14489/14489 [==============================] - 0s 22us/sample - loss: 0.0183 - val_loss: 0.0122\n",
      "Epoch 31/40\n",
      "14489/14489 [==============================] - 0s 24us/sample - loss: 0.0181 - val_loss: 0.0122\n",
      "Epoch 32/40\n",
      "14489/14489 [==============================] - 0s 25us/sample - loss: 0.0175 - val_loss: 0.0119\n",
      "Epoch 33/40\n",
      "14489/14489 [==============================] - 0s 24us/sample - loss: 0.0179 - val_loss: 0.0115\n",
      "Epoch 34/40\n",
      "14489/14489 [==============================] - 0s 23us/sample - loss: 0.0174 - val_loss: 0.0116\n",
      "Epoch 35/40\n",
      "14489/14489 [==============================] - 0s 24us/sample - loss: 0.0172 - val_loss: 0.0111\n",
      "Epoch 36/40\n",
      "14489/14489 [==============================] - 0s 24us/sample - loss: 0.0169 - val_loss: 0.0109\n",
      "Epoch 37/40\n",
      "14489/14489 [==============================] - 0s 24us/sample - loss: 0.0165 - val_loss: 0.0105\n",
      "Epoch 38/40\n",
      "14489/14489 [==============================] - 0s 24us/sample - loss: 0.0162 - val_loss: 0.0105\n",
      "Epoch 39/40\n",
      "14489/14489 [==============================] - 0s 24us/sample - loss: 0.0164 - val_loss: 0.0103\n",
      "Epoch 40/40\n",
      "14489/14489 [==============================] - 0s 24us/sample - loss: 0.0162 - val_loss: 0.0106\n"
     ]
    },
    {
     "data": {
      "text/plain": [
       "<tensorflow.python.keras.callbacks.History at 0x1f1c8545b48>"
      ]
     },
     "execution_count": 46,
     "metadata": {},
     "output_type": "execute_result"
    }
   ],
   "source": [
    "model.fit(X_train,y_train,epochs=40,batch_size=250,validation_data=(X_test,y_test),callbacks=[early_Stop])"
   ]
  },
  {
   "cell_type": "code",
   "execution_count": 47,
   "metadata": {},
   "outputs": [
    {
     "data": {
      "text/plain": [
       "<matplotlib.axes._subplots.AxesSubplot at 0x1f1c8a91a48>"
      ]
     },
     "execution_count": 47,
     "metadata": {},
     "output_type": "execute_result"
    },
    {
     "data": {
      "image/png": "[encoded data removed]",
      "text/plain": [
       "<Figure size 432x288 with 1 Axes>"
      ]
     },
     "metadata": {
      "needs_background": "light"
     },
     "output_type": "display_data"
    }
   ],
   "source": [
    "loss = pd.DataFrame(model.history.history)\n",
    "\n",
    "loss.plot()"
   ]
  },
  {
   "cell_type": "code",
   "execution_count": 48,
   "metadata": {},
   "outputs": [],
   "source": [
    "nn_predict = model.predict(X_test)"
   ]
  },
  {
   "cell_type": "code",
   "execution_count": 49,
   "metadata": {},
   "outputs": [
    {
     "name": "stdout",
     "output_type": "stream",
     "text": [
      "For Neural Network \n",
      "\n",
      "\n",
      "MAE -> 0.08037298004968303\n",
      "MSE -> 0.010559732095632405\n",
      "RMSE -> 0.10276055710063275\n",
      "Accuracy -> 0.7270998755334859\n"
     ]
    }
   ],
   "source": [
    "print('For Neural Network \\n\\n')\n",
    "print(f'MAE -> {mean_absolute_error(y_test,nn_predict)}')\n",
    "print(f'MSE -> {mean_squared_error(y_test,nn_predict)}')\n",
    "print(f'RMSE -> {np.sqrt(mean_squared_error(y_test,nn_predict))}')\n",
    "print(f'Accuracy -> {r2_score(y_test,nn_predict)}')"
   ]
  },
  {
   "cell_type": "markdown",
   "metadata": {},
   "source": [
    "# Hence Random-Forest-Regresser  Preform Best !! "
   ]
  },
  {
   "cell_type": "markdown",
   "metadata": {},
   "source": [
    "### Cross-validation using Random forest"
   ]
  },
  {
   "cell_type": "code",
   "execution_count": 52,
   "metadata": {},
   "outputs": [],
   "source": [
    "from sklearn.model_selection import cross_val_score\n",
    "\n",
    "score = cross_val_score(RandomForestRegressor(),X,y,scoring='neg_mean_squared_error',cv=10)"
   ]
  },
  {
   "cell_type": "code",
   "execution_count": 53,
   "metadata": {},
   "outputs": [],
   "source": [
    "rmse_score = np.sqrt(-score)"
   ]
  },
  {
   "cell_type": "code",
   "execution_count": 54,
   "metadata": {},
   "outputs": [
    {
     "name": "stdout",
     "output_type": "stream",
     "text": [
      "score -> [0.06356779 0.06516689 0.06556656 0.06762151 0.06386884 0.06420455\n",
      " 0.06342939 0.06440551 0.0623438  0.06452844]\n",
      "\n",
      "Mean -> 0.06447032960121415\n"
     ]
    }
   ],
   "source": [
    "print(f'score -> {rmse_score}')\n",
    "print()\n",
    "print(f'Mean -> {rmse_score.mean()}')"
   ]
  },
  {
   "cell_type": "markdown",
   "metadata": {},
   "source": [
    "#### Test Data "
   ]
  },
  {
   "cell_type": "code",
   "execution_count": 55,
   "metadata": {},
   "outputs": [
    {
     "data": {
      "text/html": [
       "<div>\n",
       "<style scoped>\n",
       "    .dataframe tbody tr th:only-of-type {\n",
       "        vertical-align: middle;\n",
       "    }\n",
       "\n",
       "    .dataframe tbody tr th {\n",
       "        vertical-align: top;\n",
       "    }\n",
       "\n",
       "    .dataframe thead th {\n",
       "        text-align: right;\n",
       "    }\n",
       "</style>\n",
       "<table border=\"1\" class=\"dataframe\">\n",
       "  <thead>\n",
       "    <tr style=\"text-align: right;\">\n",
       "      <th></th>\n",
       "      <th>Employee ID</th>\n",
       "      <th>Designation</th>\n",
       "      <th>Resource Allocation</th>\n",
       "      <th>Mental Fatigue Score</th>\n",
       "      <th>days_count</th>\n",
       "      <th>joining_year</th>\n",
       "      <th>joining_month</th>\n",
       "      <th>joining_day</th>\n",
       "      <th>Male</th>\n",
       "      <th>Service</th>\n",
       "      <th>Yes</th>\n",
       "    </tr>\n",
       "  </thead>\n",
       "  <tbody>\n",
       "    <tr>\n",
       "      <th>0</th>\n",
       "      <td>fffe31003300390039003000</td>\n",
       "      <td>2.0</td>\n",
       "      <td>5.0</td>\n",
       "      <td>7.7</td>\n",
       "      <td>4369</td>\n",
       "      <td>2008</td>\n",
       "      <td>12</td>\n",
       "      <td>10</td>\n",
       "      <td>0</td>\n",
       "      <td>1</td>\n",
       "      <td>0</td>\n",
       "    </tr>\n",
       "    <tr>\n",
       "      <th>1</th>\n",
       "      <td>fffe31003300310037003800</td>\n",
       "      <td>1.0</td>\n",
       "      <td>2.0</td>\n",
       "      <td>5.2</td>\n",
       "      <td>4487</td>\n",
       "      <td>2008</td>\n",
       "      <td>8</td>\n",
       "      <td>14</td>\n",
       "      <td>0</td>\n",
       "      <td>0</td>\n",
       "      <td>1</td>\n",
       "    </tr>\n",
       "    <tr>\n",
       "      <th>2</th>\n",
       "      <td>fffe33003400380035003900</td>\n",
       "      <td>1.0</td>\n",
       "      <td>3.0</td>\n",
       "      <td>5.9</td>\n",
       "      <td>4396</td>\n",
       "      <td>2008</td>\n",
       "      <td>11</td>\n",
       "      <td>13</td>\n",
       "      <td>1</td>\n",
       "      <td>0</td>\n",
       "      <td>1</td>\n",
       "    </tr>\n",
       "    <tr>\n",
       "      <th>3</th>\n",
       "      <td>fffe3100370039003200</td>\n",
       "      <td>3.0</td>\n",
       "      <td>6.0</td>\n",
       "      <td>4.6</td>\n",
       "      <td>4676</td>\n",
       "      <td>2008</td>\n",
       "      <td>2</td>\n",
       "      <td>7</td>\n",
       "      <td>0</td>\n",
       "      <td>1</td>\n",
       "      <td>0</td>\n",
       "    </tr>\n",
       "    <tr>\n",
       "      <th>4</th>\n",
       "      <td>fffe32003600390036003700</td>\n",
       "      <td>2.0</td>\n",
       "      <td>5.0</td>\n",
       "      <td>6.4</td>\n",
       "      <td>4515</td>\n",
       "      <td>2008</td>\n",
       "      <td>7</td>\n",
       "      <td>17</td>\n",
       "      <td>0</td>\n",
       "      <td>0</td>\n",
       "      <td>0</td>\n",
       "    </tr>\n",
       "  </tbody>\n",
       "</table>\n",
       "</div>"
      ],
      "text/plain": [
       "                Employee ID  Designation  Resource Allocation  \\\n",
       "0  fffe31003300390039003000          2.0                  5.0   \n",
       "1  fffe31003300310037003800          1.0                  2.0   \n",
       "2  fffe33003400380035003900          1.0                  3.0   \n",
       "3      fffe3100370039003200          3.0                  6.0   \n",
       "4  fffe32003600390036003700          2.0                  5.0   \n",
       "\n",
       "   Mental Fatigue Score  days_count  joining_year  joining_month  joining_day  \\\n",
       "0                   7.7        4369          2008             12           10   \n",
       "1                   5.2        4487          2008              8           14   \n",
       "2                   5.9        4396          2008             11           13   \n",
       "3                   4.6        4676          2008              2            7   \n",
       "4                   6.4        4515          2008              7           17   \n",
       "\n",
       "   Male  Service  Yes  \n",
       "0     0        1    0  \n",
       "1     0        0    1  \n",
       "2     1        0    1  \n",
       "3     0        1    0  \n",
       "4     0        0    0  "
      ]
     },
     "execution_count": 55,
     "metadata": {},
     "output_type": "execute_result"
    }
   ],
   "source": [
    "df_test.head()"
   ]
  },
  {
   "cell_type": "code",
   "execution_count": 62,
   "metadata": {},
   "outputs": [],
   "source": [
    "test_X = df_test.drop('Employee ID',axis=1)"
   ]
  },
  {
   "cell_type": "code",
   "execution_count": 63,
   "metadata": {},
   "outputs": [],
   "source": [
    "scale_test = scaler.transform(test_X)"
   ]
  },
  {
   "cell_type": "code",
   "execution_count": 65,
   "metadata": {},
   "outputs": [],
   "source": [
    "rf_full_predict = rf.predict(scale_test)"
   ]
  },
  {
   "cell_type": "code",
   "execution_count": 66,
   "metadata": {},
   "outputs": [
    {
     "data": {
      "text/plain": [
       "array([0.6327  , 0.3758  , 0.394125, ..., 0.8415  , 0.6019  , 0.1332  ])"
      ]
     },
     "execution_count": 66,
     "metadata": {},
     "output_type": "execute_result"
    }
   ],
   "source": [
    "rf_full_predict"
   ]
  },
  {
   "cell_type": "code",
   "execution_count": 69,
   "metadata": {},
   "outputs": [],
   "source": [
    "df_test['predicted'] = np.round(rf_full_predict,2)"
   ]
  },
  {
   "cell_type": "code",
   "execution_count": 70,
   "metadata": {},
   "outputs": [
    {
     "data": {
      "text/html": [
       "<div>\n",
       "<style scoped>\n",
       "    .dataframe tbody tr th:only-of-type {\n",
       "        vertical-align: middle;\n",
       "    }\n",
       "\n",
       "    .dataframe tbody tr th {\n",
       "        vertical-align: top;\n",
       "    }\n",
       "\n",
       "    .dataframe thead th {\n",
       "        text-align: right;\n",
       "    }\n",
       "</style>\n",
       "<table border=\"1\" class=\"dataframe\">\n",
       "  <thead>\n",
       "    <tr style=\"text-align: right;\">\n",
       "      <th></th>\n",
       "      <th>Employee ID</th>\n",
       "      <th>Designation</th>\n",
       "      <th>Resource Allocation</th>\n",
       "      <th>Mental Fatigue Score</th>\n",
       "      <th>days_count</th>\n",
       "      <th>joining_year</th>\n",
       "      <th>joining_month</th>\n",
       "      <th>joining_day</th>\n",
       "      <th>Male</th>\n",
       "      <th>Service</th>\n",
       "      <th>Yes</th>\n",
       "      <th>predicted</th>\n",
       "    </tr>\n",
       "  </thead>\n",
       "  <tbody>\n",
       "    <tr>\n",
       "      <th>0</th>\n",
       "      <td>fffe31003300390039003000</td>\n",
       "      <td>2.0</td>\n",
       "      <td>5.0</td>\n",
       "      <td>7.7</td>\n",
       "      <td>4369</td>\n",
       "      <td>2008</td>\n",
       "      <td>12</td>\n",
       "      <td>10</td>\n",
       "      <td>0</td>\n",
       "      <td>1</td>\n",
       "      <td>0</td>\n",
       "      <td>0.63</td>\n",
       "    </tr>\n",
       "    <tr>\n",
       "      <th>1</th>\n",
       "      <td>fffe31003300310037003800</td>\n",
       "      <td>1.0</td>\n",
       "      <td>2.0</td>\n",
       "      <td>5.2</td>\n",
       "      <td>4487</td>\n",
       "      <td>2008</td>\n",
       "      <td>8</td>\n",
       "      <td>14</td>\n",
       "      <td>0</td>\n",
       "      <td>0</td>\n",
       "      <td>1</td>\n",
       "      <td>0.38</td>\n",
       "    </tr>\n",
       "    <tr>\n",
       "      <th>2</th>\n",
       "      <td>fffe33003400380035003900</td>\n",
       "      <td>1.0</td>\n",
       "      <td>3.0</td>\n",
       "      <td>5.9</td>\n",
       "      <td>4396</td>\n",
       "      <td>2008</td>\n",
       "      <td>11</td>\n",
       "      <td>13</td>\n",
       "      <td>1</td>\n",
       "      <td>0</td>\n",
       "      <td>1</td>\n",
       "      <td>0.39</td>\n",
       "    </tr>\n",
       "    <tr>\n",
       "      <th>3</th>\n",
       "      <td>fffe3100370039003200</td>\n",
       "      <td>3.0</td>\n",
       "      <td>6.0</td>\n",
       "      <td>4.6</td>\n",
       "      <td>4676</td>\n",
       "      <td>2008</td>\n",
       "      <td>2</td>\n",
       "      <td>7</td>\n",
       "      <td>0</td>\n",
       "      <td>1</td>\n",
       "      <td>0</td>\n",
       "      <td>0.38</td>\n",
       "    </tr>\n",
       "    <tr>\n",
       "      <th>4</th>\n",
       "      <td>fffe32003600390036003700</td>\n",
       "      <td>2.0</td>\n",
       "      <td>5.0</td>\n",
       "      <td>6.4</td>\n",
       "      <td>4515</td>\n",
       "      <td>2008</td>\n",
       "      <td>7</td>\n",
       "      <td>17</td>\n",
       "      <td>0</td>\n",
       "      <td>0</td>\n",
       "      <td>0</td>\n",
       "      <td>0.53</td>\n",
       "    </tr>\n",
       "    <tr>\n",
       "      <th>...</th>\n",
       "      <td>...</td>\n",
       "      <td>...</td>\n",
       "      <td>...</td>\n",
       "      <td>...</td>\n",
       "      <td>...</td>\n",
       "      <td>...</td>\n",
       "      <td>...</td>\n",
       "      <td>...</td>\n",
       "      <td>...</td>\n",
       "      <td>...</td>\n",
       "      <td>...</td>\n",
       "      <td>...</td>\n",
       "    </tr>\n",
       "    <tr>\n",
       "      <th>12245</th>\n",
       "      <td>fffe3900310034003700</td>\n",
       "      <td>1.0</td>\n",
       "      <td>2.0</td>\n",
       "      <td>6.1</td>\n",
       "      <td>4438</td>\n",
       "      <td>2008</td>\n",
       "      <td>10</td>\n",
       "      <td>2</td>\n",
       "      <td>0</td>\n",
       "      <td>1</td>\n",
       "      <td>1</td>\n",
       "      <td>0.41</td>\n",
       "    </tr>\n",
       "    <tr>\n",
       "      <th>12246</th>\n",
       "      <td>fffe32003600330034003000</td>\n",
       "      <td>2.0</td>\n",
       "      <td>4.0</td>\n",
       "      <td>5.9</td>\n",
       "      <td>4623</td>\n",
       "      <td>2008</td>\n",
       "      <td>3</td>\n",
       "      <td>31</td>\n",
       "      <td>0</td>\n",
       "      <td>0</td>\n",
       "      <td>1</td>\n",
       "      <td>0.29</td>\n",
       "    </tr>\n",
       "    <tr>\n",
       "      <th>12247</th>\n",
       "      <td>fffe31003800340039003000</td>\n",
       "      <td>4.0</td>\n",
       "      <td>7.0</td>\n",
       "      <td>9.6</td>\n",
       "      <td>4671</td>\n",
       "      <td>2008</td>\n",
       "      <td>2</td>\n",
       "      <td>12</td>\n",
       "      <td>1</td>\n",
       "      <td>1</td>\n",
       "      <td>0</td>\n",
       "      <td>0.84</td>\n",
       "    </tr>\n",
       "    <tr>\n",
       "      <th>12248</th>\n",
       "      <td>fffe32003600380031003800</td>\n",
       "      <td>3.0</td>\n",
       "      <td>6.0</td>\n",
       "      <td>6.7</td>\n",
       "      <td>4677</td>\n",
       "      <td>2008</td>\n",
       "      <td>2</td>\n",
       "      <td>6</td>\n",
       "      <td>1</td>\n",
       "      <td>1</td>\n",
       "      <td>0</td>\n",
       "      <td>0.60</td>\n",
       "    </tr>\n",
       "    <tr>\n",
       "      <th>12249</th>\n",
       "      <td>fffe32003100390037003800</td>\n",
       "      <td>2.0</td>\n",
       "      <td>2.0</td>\n",
       "      <td>2.0</td>\n",
       "      <td>4496</td>\n",
       "      <td>2008</td>\n",
       "      <td>8</td>\n",
       "      <td>5</td>\n",
       "      <td>0</td>\n",
       "      <td>0</td>\n",
       "      <td>0</td>\n",
       "      <td>0.13</td>\n",
       "    </tr>\n",
       "  </tbody>\n",
       "</table>\n",
       "<p>12250 rows × 12 columns</p>\n",
       "</div>"
      ],
      "text/plain": [
       "                    Employee ID  Designation  Resource Allocation  \\\n",
       "0      fffe31003300390039003000          2.0                  5.0   \n",
       "1      fffe31003300310037003800          1.0                  2.0   \n",
       "2      fffe33003400380035003900          1.0                  3.0   \n",
       "3          fffe3100370039003200          3.0                  6.0   \n",
       "4      fffe32003600390036003700          2.0                  5.0   \n",
       "...                         ...          ...                  ...   \n",
       "12245      fffe3900310034003700          1.0                  2.0   \n",
       "12246  fffe32003600330034003000          2.0                  4.0   \n",
       "12247  fffe31003800340039003000          4.0                  7.0   \n",
       "12248  fffe32003600380031003800          3.0                  6.0   \n",
       "12249  fffe32003100390037003800          2.0                  2.0   \n",
       "\n",
       "       Mental Fatigue Score  days_count  joining_year  joining_month  \\\n",
       "0                       7.7        4369          2008             12   \n",
       "1                       5.2        4487          2008              8   \n",
       "2                       5.9        4396          2008             11   \n",
       "3                       4.6        4676          2008              2   \n",
       "4                       6.4        4515          2008              7   \n",
       "...                     ...         ...           ...            ...   \n",
       "12245                   6.1        4438          2008             10   \n",
       "12246                   5.9        4623          2008              3   \n",
       "12247                   9.6        4671          2008              2   \n",
       "12248                   6.7        4677          2008              2   \n",
       "12249                   2.0        4496          2008              8   \n",
       "\n",
       "       joining_day  Male  Service  Yes  predicted  \n",
       "0               10     0        1    0       0.63  \n",
       "1               14     0        0    1       0.38  \n",
       "2               13     1        0    1       0.39  \n",
       "3                7     0        1    0       0.38  \n",
       "4               17     0        0    0       0.53  \n",
       "...            ...   ...      ...  ...        ...  \n",
       "12245            2     0        1    1       0.41  \n",
       "12246           31     0        0    1       0.29  \n",
       "12247           12     1        1    0       0.84  \n",
       "12248            6     1        1    0       0.60  \n",
       "12249            5     0        0    0       0.13  \n",
       "\n",
       "[12250 rows x 12 columns]"
      ]
     },
     "execution_count": 70,
     "metadata": {},
     "output_type": "execute_result"
    }
   ],
   "source": [
    "df_test"
   ]
  },
  {
   "cell_type": "code",
   "execution_count": 72,
   "metadata": {},
   "outputs": [],
   "source": [
    "submission = pd.DataFrame(data=df_test[['Employee ID','predicted']])"
   ]
  },
  {
   "cell_type": "markdown",
   "metadata": {},
   "source": [
    "#### Submission Task"
   ]
  },
  {
   "cell_type": "code",
   "execution_count": 73,
   "metadata": {},
   "outputs": [
    {
     "data": {
      "text/html": [
       "<div>\n",
       "<style scoped>\n",
       "    .dataframe tbody tr th:only-of-type {\n",
       "        vertical-align: middle;\n",
       "    }\n",
       "\n",
       "    .dataframe tbody tr th {\n",
       "        vertical-align: top;\n",
       "    }\n",
       "\n",
       "    .dataframe thead th {\n",
       "        text-align: right;\n",
       "    }\n",
       "</style>\n",
       "<table border=\"1\" class=\"dataframe\">\n",
       "  <thead>\n",
       "    <tr style=\"text-align: right;\">\n",
       "      <th></th>\n",
       "      <th>Employee ID</th>\n",
       "      <th>predicted</th>\n",
       "    </tr>\n",
       "  </thead>\n",
       "  <tbody>\n",
       "    <tr>\n",
       "      <th>0</th>\n",
       "      <td>fffe31003300390039003000</td>\n",
       "      <td>0.63</td>\n",
       "    </tr>\n",
       "    <tr>\n",
       "      <th>1</th>\n",
       "      <td>fffe31003300310037003800</td>\n",
       "      <td>0.38</td>\n",
       "    </tr>\n",
       "    <tr>\n",
       "      <th>2</th>\n",
       "      <td>fffe33003400380035003900</td>\n",
       "      <td>0.39</td>\n",
       "    </tr>\n",
       "    <tr>\n",
       "      <th>3</th>\n",
       "      <td>fffe3100370039003200</td>\n",
       "      <td>0.38</td>\n",
       "    </tr>\n",
       "    <tr>\n",
       "      <th>4</th>\n",
       "      <td>fffe32003600390036003700</td>\n",
       "      <td>0.53</td>\n",
       "    </tr>\n",
       "    <tr>\n",
       "      <th>...</th>\n",
       "      <td>...</td>\n",
       "      <td>...</td>\n",
       "    </tr>\n",
       "    <tr>\n",
       "      <th>12245</th>\n",
       "      <td>fffe3900310034003700</td>\n",
       "      <td>0.41</td>\n",
       "    </tr>\n",
       "    <tr>\n",
       "      <th>12246</th>\n",
       "      <td>fffe32003600330034003000</td>\n",
       "      <td>0.29</td>\n",
       "    </tr>\n",
       "    <tr>\n",
       "      <th>12247</th>\n",
       "      <td>fffe31003800340039003000</td>\n",
       "      <td>0.84</td>\n",
       "    </tr>\n",
       "    <tr>\n",
       "      <th>12248</th>\n",
       "      <td>fffe32003600380031003800</td>\n",
       "      <td>0.60</td>\n",
       "    </tr>\n",
       "    <tr>\n",
       "      <th>12249</th>\n",
       "      <td>fffe32003100390037003800</td>\n",
       "      <td>0.13</td>\n",
       "    </tr>\n",
       "  </tbody>\n",
       "</table>\n",
       "<p>12250 rows × 2 columns</p>\n",
       "</div>"
      ],
      "text/plain": [
       "                    Employee ID  predicted\n",
       "0      fffe31003300390039003000       0.63\n",
       "1      fffe31003300310037003800       0.38\n",
       "2      fffe33003400380035003900       0.39\n",
       "3          fffe3100370039003200       0.38\n",
       "4      fffe32003600390036003700       0.53\n",
       "...                         ...        ...\n",
       "12245      fffe3900310034003700       0.41\n",
       "12246  fffe32003600330034003000       0.29\n",
       "12247  fffe31003800340039003000       0.84\n",
       "12248  fffe32003600380031003800       0.60\n",
       "12249  fffe32003100390037003800       0.13\n",
       "\n",
       "[12250 rows x 2 columns]"
      ]
     },
     "execution_count": 73,
     "metadata": {},
     "output_type": "execute_result"
    }
   ],
   "source": [
    "submission"
   ]
  },
  {
   "cell_type": "code",
   "execution_count": 74,
   "metadata": {},
   "outputs": [],
   "source": [
    "submission.to_csv('Submission_Burn Rate.csv')"
   ]
  },
  {
   "cell_type": "markdown",
   "metadata": {},
   "source": [
    "## Congrats !! We Have Successfully Completed the Task"
   ]
  }
 ],
 "metadata": {
  "kernelspec": {
   "display_name": "Python 3",
   "language": "python",
   "name": "python3"
  },
  "language_info": {
   "codemirror_mode": {
    "name": "ipython",
    "version": 3
   },
   "file_extension": ".py",
   "mimetype": "text/x-python",
   "name": "python",
   "nbconvert_exporter": "python",
   "pygments_lexer": "ipython3",
   "version": "3.7.6"
  }
 },
 "nbformat": 4,
 "nbformat_minor": 4
}
